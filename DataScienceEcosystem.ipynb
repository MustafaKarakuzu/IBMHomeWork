{
 "cells": [
  {
   "cell_type": "markdown",
   "id": "a8399f6b",
   "metadata": {},
   "source": [
    "# Data Science Tools and Ecosystem"
   ]
  },
  {
   "cell_type": "markdown",
   "id": "dfdb7339",
   "metadata": {},
   "source": [
    "In this notebook, Data Science Tools and Ecosystem are summarized."
   ]
  },
  {
   "cell_type": "markdown",
   "id": "2135ada9",
   "metadata": {},
   "source": [
    "#### Objectives: \n",
    "Python, R and RStudio, SQL, C++"
   ]
  },
  {
   "cell_type": "markdown",
   "id": "63cf7c2d",
   "metadata": {},
   "source": [
    "Some of the popular languages that Data Scientists use are:"
   ]
  },
  {
   "cell_type": "markdown",
   "id": "90d2ed41",
   "metadata": {},
   "source": [
    "1-Python <br>\n",
    "2-R and R Studio <br>\n",
    "3-QL <br>\n",
    "4-C++ <br>\n"
   ]
  },
  {
   "cell_type": "markdown",
   "id": "7c915864",
   "metadata": {},
   "source": [
    "Some of the commonly used libraries used by Data Scientists include:"
   ]
  },
  {
   "cell_type": "markdown",
   "id": "8f3a4ab5",
   "metadata": {},
   "source": [
    "1-Pandas <br>\n",
    "2-Numpy <br>\n",
    "3-Matplotlib <br>\n",
    "4-ggplot\n",
    "5-plotly <br>\n",
    "6-lattice <br>\n",
    "7-caret <br>\n",
    "8-TensorFlow <br>"
   ]
  },
  {
   "cell_type": "markdown",
   "id": "5f5bb704",
   "metadata": {},
   "source": [
    "| Data Science Tools |\n",
    "| --- |\n",
    "| Python |\n",
    "| R |\n",
    "| SQL |"
   ]
  },
  {
   "cell_type": "markdown",
   "id": "d9497e0b",
   "metadata": {},
   "source": [
    "### Below are a few examples of evaluating arithmetic expressions in Python"
   ]
  },
  {
   "cell_type": "markdown",
   "id": "778b0731",
   "metadata": {},
   "source": [
    "This a simple arithmetic expression to mutiply then add integers"
   ]
  },
  {
   "cell_type": "code",
   "execution_count": 4,
   "id": "13bd4e98",
   "metadata": {},
   "outputs": [
    {
     "data": {
      "text/plain": [
       "17"
      ]
     },
     "execution_count": 4,
     "metadata": {},
     "output_type": "execute_result"
    }
   ],
   "source": [
    "(3*4)+5"
   ]
  },
  {
   "cell_type": "markdown",
   "id": "94e7ee23",
   "metadata": {},
   "source": [
    "This will convert 200 minutes to hours by diving by 60."
   ]
  },
  {
   "cell_type": "code",
   "execution_count": 5,
   "id": "7fe3be0a",
   "metadata": {},
   "outputs": [
    {
     "data": {
      "text/plain": [
       "3.3333333333333335"
      ]
     },
     "execution_count": 5,
     "metadata": {},
     "output_type": "execute_result"
    }
   ],
   "source": [
    "200/60"
   ]
  },
  {
   "cell_type": "markdown",
   "id": "5d55b4e2",
   "metadata": {},
   "source": [
    "## Author : Mustafa."
   ]
  },
  {
   "cell_type": "code",
   "execution_count": null,
   "id": "daa909aa",
   "metadata": {},
   "outputs": [],
   "source": []
  }
 ],
 "metadata": {
  "kernelspec": {
   "display_name": "Python 3 (ipykernel)",
   "language": "python",
   "name": "python3"
  },
  "language_info": {
   "codemirror_mode": {
    "name": "ipython",
    "version": 3
   },
   "file_extension": ".py",
   "mimetype": "text/x-python",
   "name": "python",
   "nbconvert_exporter": "python",
   "pygments_lexer": "ipython3",
   "version": "3.9.13"
  }
 },
 "nbformat": 4,
 "nbformat_minor": 5
}
